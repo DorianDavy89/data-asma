{
  "nbformat": 4,
  "nbformat_minor": 0,
  "metadata": {
    "colab": {
      "provenance": []
    },
    "kernelspec": {
      "name": "python3",
      "display_name": "Python 3"
    },
    "language_info": {
      "name": "python"
    }
  },
  "cells": [
    {
      "cell_type": "markdown",
      "source": [
        " -------------------------------------------------------------------------------\n",
        "\n",
        " Carga de datos: Importamos el dataset desde GitHub usando pd.read_csv() con el delimitador correcto (;) y verificamos las primeras filas para confirmar la estructura."
      ],
      "metadata": {
        "id": "PsUvwauxXCb0"
      }
    },
    {
      "cell_type": "code",
      "execution_count": 3,
      "metadata": {
        "colab": {
          "base_uri": "https://localhost:8080/"
        },
        "id": "BkR61EnbUwky",
        "outputId": "c773c4d8-bf23-4992-d75b-7ec9b19478e5"
      },
      "outputs": [
        {
          "output_type": "stream",
          "name": "stdout",
          "text": [
            "Columnas del dataset:\n",
            "['PatientID', 'FEV1', 'Eosinófilos', 'FeNO', 'Síntomas', 'Gravedad_GINA']\n",
            "\n",
            "Primeras 5 filas:\n",
            "  PatientID  FEV1  Eosinófilos  FeNO  Síntomas Gravedad_GINA\n",
            "0       P01    56          200    20         0         grave\n",
            "1       P02    89          300    30         2      moderado\n",
            "2       P03    50          350    40         1         grave\n",
            "3       P04    40          654    65         2         grave\n",
            "4       P05    60          150    80         1         grave\n"
          ]
        }
      ],
      "source": [
        "import pandas as pd\n",
        "import numpy as np\n",
        "import matplotlib.pyplot as plt\n",
        "import seaborn as sns\n",
        "from sklearn.model_selection import train_test_split\n",
        "from sklearn.ensemble import RandomForestClassifier\n",
        "from sklearn.metrics import classification_report, confusion_matrix\n",
        "\n",
        "# Cargar el dataset desde GitHub\n",
        "url = \"https://raw.githubusercontent.com/DorianDavy89/data-asma/refs/heads/main/dataAsma.csv\"\n",
        "df = pd.read_csv(url, delimiter=';')  # ¡Clave aquí!\n",
        "\n",
        "# Verificar columnas y primeras filas\n",
        "print(\"Columnas del dataset:\")\n",
        "print(df.columns.tolist())\n",
        "print(\"\\nPrimeras 5 filas:\")\n",
        "print(df.head())"
      ]
    },
    {
      "cell_type": "markdown",
      "source": [
        "--------------------------------------------------------------------------------\n",
        "Preprocesamiento: Seleccionamos las columnas relevantes (FEV1, Eosinófilos, FeNO, Síntomas) y codificamos la variable objetivo (Gravedad_GINA) a valores numéricos (0, 1, 2). Dividimos los datos en conjuntos de entrenamiento (80%) y prueba (20%)."
      ],
      "metadata": {
        "id": "EErnFig4XGdt"
      }
    },
    {
      "cell_type": "code",
      "source": [
        "from sklearn.preprocessing import LabelEncoder\n",
        "from sklearn.model_selection import train_test_split\n",
        "\n",
        "# Características y variable objetivo\n",
        "features = ['FEV1', 'Eosinófilos', 'FeNO', 'Síntomas']\n",
        "target = 'Gravedad_GINA'\n",
        "\n",
        "X = df[features]\n",
        "y = df[target]\n",
        "\n",
        "# Codificar la variable objetivo (leve -> 0, moderado -> 1, grave -> 2)\n",
        "le = LabelEncoder()\n",
        "y_encoded = le.fit_transform(y)\n",
        "\n",
        "# Dividir datos en entrenamiento (80%) y prueba (20%)\n",
        "X_train, X_test, y_train, y_test = train_test_split(X, y_encoded, test_size=0.2, random_state=42)\n",
        "\n",
        "print(\"\\nDistribución de clases en entrenamiento:\", np.bincount(y_train))\n",
        "print(\"Distribución de clases en prueba:\", np.bincount(y_test))"
      ],
      "metadata": {
        "colab": {
          "base_uri": "https://localhost:8080/"
        },
        "id": "laphJtusVz5N",
        "outputId": "b758aa56-c161-4903-9657-169c39447421"
      },
      "execution_count": 6,
      "outputs": [
        {
          "output_type": "stream",
          "name": "stdout",
          "text": [
            "\n",
            "Distribución de clases en entrenamiento: [25  3 12]\n",
            "Distribución de clases en prueba: [4 3 3]\n"
          ]
        }
      ]
    },
    {
      "cell_type": "markdown",
      "source": [
        "--------------------------------------------------------------------------------\n",
        "Entrenamiento: Creamos y entrenamos un modelo de Random Forest con los datos de entrenamiento, ajustando 100 árboles de decisión."
      ],
      "metadata": {
        "id": "aqKANGoYXUvX"
      }
    },
    {
      "cell_type": "code",
      "source": [
        "from sklearn.ensemble import RandomForestClassifier\n",
        "from sklearn.metrics import classification_report, confusion_matrix\n",
        "import matplotlib.pyplot as plt\n",
        "import seaborn as sns\n",
        "\n",
        "# Crear y entrenar el modelo\n",
        "model = RandomForestClassifier(n_estimators=100, random_state=42)\n",
        "model.fit(X_train, y_train)\n",
        "\n",
        "# Predecir en datos de prueba\n",
        "y_pred = model.predict(X_test)\n",
        "\n",
        "# Reporte de clasificación\n",
        "print(\"\\nReporte de Clasificación:\")\n",
        "print(classification_report(y_test, y_pred, target_names=le.classes_))\n",
        "\n",
        "# Matriz de confusión\n",
        "cm = confusion_matrix(y_test, y_pred)\n",
        "sns.heatmap(cm, annot=True, fmt='d', cmap='Blues', xticklabels=le.classes_, yticklabels=le.classes_)\n",
        "plt.xlabel('Predicho')\n",
        "plt.ylabel('Real')\n",
        "plt.title('Matriz de Confusión')\n",
        "plt.show()"
      ],
      "metadata": {
        "colab": {
          "base_uri": "https://localhost:8080/",
          "height": 691
        },
        "id": "jidrfQciWH-o",
        "outputId": "cd40ae52-f559-41fd-a7f6-4743b63ec79a"
      },
      "execution_count": 7,
      "outputs": [
        {
          "output_type": "stream",
          "name": "stdout",
          "text": [
            "\n",
            "Reporte de Clasificación:\n",
            "              precision    recall  f1-score   support\n",
            "\n",
            "       grave       0.80      1.00      0.89         4\n",
            "        leve       1.00      0.67      0.80         3\n",
            "    moderado       1.00      1.00      1.00         3\n",
            "\n",
            "    accuracy                           0.90        10\n",
            "   macro avg       0.93      0.89      0.90        10\n",
            "weighted avg       0.92      0.90      0.90        10\n",
            "\n"
          ]
        },
        {
          "output_type": "display_data",
          "data": {
            "text/plain": [
              "<Figure size 640x480 with 2 Axes>"
            ],
            "image/png": "[encoded data removed]"
          },
          "metadata": {}
        }
      ]
    },
    {
      "cell_type": "markdown",
      "source": [
        "--------------------------------------------------------------------------------\n",
        "Evaluación: Predecimos en el conjunto de prueba y generamos un reporte de clasificación (precisión, recall) y una matriz de confusión para visualizar aciertos/errores."
      ],
      "metadata": {
        "id": "vvqqayHPXb2v"
      }
    },
    {
      "cell_type": "code",
      "source": [
        "# Características\n",
        "importances = model.feature_importances_\n",
        "feature_importance = pd.DataFrame({'Feature': features, 'Importance': importances})\n",
        "feature_importance = feature_importance.sort_values('Importance', ascending=False)\n",
        "\n",
        "print(\"\\nImportancia de las características:\")\n",
        "print(feature_importance)\n",
        "\n",
        "# Gráfico de importancia\n",
        "sns.barplot(x='Importance', y='Feature', data=feature_importance)\n",
        "plt.title('Importancia de las Características')\n",
        "plt.show()"
      ],
      "metadata": {
        "colab": {
          "base_uri": "https://localhost:8080/",
          "height": 600
        },
        "id": "L_zFkrhuWRUo",
        "outputId": "80606af7-5e56-496d-fe32-18a19657c8a7"
      },
      "execution_count": 9,
      "outputs": [
        {
          "output_type": "stream",
          "name": "stdout",
          "text": [
            "\n",
            "Importancia de las características:\n",
            "       Feature  Importance\n",
            "0         FEV1    0.434463\n",
            "3     Síntomas    0.386669\n",
            "1  Eosinófilos    0.108797\n",
            "2         FeNO    0.070072\n"
          ]
        },
        {
          "output_type": "display_data",
          "data": {
            "text/plain": [
              "<Figure size 640x480 with 1 Axes>"
            ],
            "image/png": "[encoded data removed]"
          },
          "metadata": {}
        }
      ]
    },
    {
      "cell_type": "markdown",
      "source": [
        "--------------------------------------------------------------------------------\n",
        "Guardado: Exportamos el modelo entrenado a un archivo .pkl para reutilizarlo sin reentrenar."
      ],
      "metadata": {
        "id": "xRn-33boXmRg"
      }
    },
    {
      "cell_type": "code",
      "source": [
        "import joblib\n",
        "\n",
        "# Guardar modelo\n",
        "joblib.dump(model, 'modelo_asma_gina.pkl')\n"
      ],
      "metadata": {
        "colab": {
          "base_uri": "https://localhost:8080/"
        },
        "id": "DqU8gz1hWb3Z",
        "outputId": "90ae0c52-5c28-4f0d-bf86-6f5596548314"
      },
      "execution_count": 10,
      "outputs": [
        {
          "output_type": "execute_result",
          "data": {
            "text/plain": [
              "['modelo_asma_gina.pkl']"
            ]
          },
          "metadata": {},
          "execution_count": 10
        }
      ]
    },
    {
      "cell_type": "code",
      "source": [
        "# Filtro pacientes clasificados como \"grave\" por el modelo\n",
        "pacientes_grave = df.iloc[X_test.index][y_pred == le.transform(['grave'])[0]]\n",
        "print(\"\\nPacientes clasificados como 'grave' por el modelo:\")\n",
        "print(pacientes_grave[['FEV1', 'Síntomas', 'Gravedad_GINA']])"
      ],
      "metadata": {
        "colab": {
          "base_uri": "https://localhost:8080/"
        },
        "id": "F739KlTUWlQp",
        "outputId": "a725401b-768c-461f-ff7f-9e83878fab4b"
      },
      "execution_count": 11,
      "outputs": [
        {
          "output_type": "stream",
          "name": "stdout",
          "text": [
            "\n",
            "Pacientes clasificados como 'grave' por el modelo:\n",
            "    FEV1  Síntomas Gravedad_GINA\n",
            "39    80         0          leve\n",
            "30    67         1         grave\n",
            "48    48         1         grave\n",
            "26    68         0         grave\n",
            "25    65         0         grave\n"
          ]
        }
      ]
    }
  ]
}